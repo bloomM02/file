{
  "nbformat": 4,
  "nbformat_minor": 0,
  "metadata": {
    "colab": {
      "name": "files.ipynb",
      "provenance": []
    },
    "kernelspec": {
      "name": "python3",
      "display_name": "Python 3"
    },
    "language_info": {
      "name": "python"
    }
  },
  "cells": [
    {
      "cell_type": "code",
      "metadata": {
        "colab": {
          "base_uri": "https://localhost:8080/",
          "height": 135
        },
        "id": "87eE4_dXjw_3",
        "outputId": "3894fbce-de5b-42df-c137-90362172a712"
      },
      "source": [
        "#ex1\n",
        "f=open(\"/python.txt\")\n",
        "f.read()\n"
      ],
      "execution_count": 6,
      "outputs": [
        {
          "output_type": "execute_result",
          "data": {
            "application/vnd.google.colaboratory.intrinsic+json": {
              "type": "string"
            },
            "text/plain": [
              "'What is Python language?                                                \\nPython is a widely used high-level, general-purpose, interpreted, dynamic programming language.Its design philosophy emphasizes code readability, and its syntax allows programmers to express concepts in fewer lines of code than possible in \\nlanguages such as C++ or Java. \\nPython supports multiple programming paradigms, including object-oriented, imperative and functional programming or procedural styles. It features a dynamic type system and automatic memory management and has a large and comprehensive standard library.The best way we learn anything is by practice and exercise questions. We  have started this section for those (beginner to intermediate) who are familiar with Python.'"
            ]
          },
          "metadata": {
            "tags": []
          },
          "execution_count": 6
        }
      ]
    },
    {
      "cell_type": "code",
      "metadata": {
        "colab": {
          "base_uri": "https://localhost:8080/"
        },
        "id": "FNpzn3ZjuQXv",
        "outputId": "02516dba-a1d4-4250-f7b6-f621c3b6fe36"
      },
      "source": [
        "#ex2\n",
        "f=open(\"/python.txt\")\n",
        "n=int(input(\"entrez un nb\"))\n",
        "number_of_lines =n\n",
        "for i in range(number_of_lines):\n",
        "\n",
        "    line = f.readline()\n",
        "    print(line)"
      ],
      "execution_count": 44,
      "outputs": [
        {
          "output_type": "stream",
          "text": [
            "entrez un nb2\n",
            "What is Python language?                                                \n",
            "\n",
            "Python is a widely used high-level, general-purpose, interpreted, dynamic programming language.Its design philosophy emphasizes code readability, and its syntax allows programmers to express concepts in fewer lines of code than possible in \n",
            "\n"
          ],
          "name": "stdout"
        }
      ]
    },
    {
      "cell_type": "code",
      "metadata": {
        "colab": {
          "base_uri": "https://localhost:8080/"
        },
        "id": "PmeZigDtyfkR",
        "outputId": "fc3e8a0c-f8bd-4d40-bde3-bd43f023a0b2"
      },
      "source": [
        "#ex3/ex5\n",
        "f=open(\"/python.txt\")\n",
        "n=int(input(\"entrez un nb: \"))\n",
        "lines =f.readlines()\n",
        "last_lines = lines[-n:]\n",
        "\n",
        "print(last_lines)"
      ],
      "execution_count": 46,
      "outputs": [
        {
          "output_type": "stream",
          "text": [
            "entrez un nb: 1\n",
            "['Python supports multiple programming paradigms, including object-oriented, imperative and functional programming or procedural styles. It features a dynamic type system and automatic memory management and has a large and comprehensive standard library.The best way we learn anything is by practice and exercise questions. We  have started this section for those (beginner to intermediate) who are familiar with Python.']\n"
          ],
          "name": "stdout"
        }
      ]
    },
    {
      "cell_type": "code",
      "metadata": {
        "colab": {
          "base_uri": "https://localhost:8080/"
        },
        "id": "TWxfU_y70CX_",
        "outputId": "42617069-b27d-4d31-e803-afc2d290323c"
      },
      "source": [
        "#ex4:\n",
        "f = open(\"/python.txt\")\n",
        "data = f.read()\n",
        "words = data.split()\n",
        "print('Number of words in  this text is :', len(words))"
      ],
      "execution_count": 47,
      "outputs": [
        {
          "output_type": "stream",
          "text": [
            "Number of words in  this text is : 100\n"
          ],
          "name": "stdout"
        }
      ]
    }
  ]
}